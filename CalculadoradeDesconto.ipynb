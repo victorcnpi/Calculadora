{
 "cells": [
  {
   "cell_type": "code",
   "execution_count": null,
   "id": "4bd504ac-598b-4bec-95e7-b1c44335a485",
   "metadata": {},
   "outputs": [
    {
     "name": "stdout",
     "output_type": "stream",
     "text": [
      "=== Calculadora de Desconto ===\n"
     ]
    }
   ],
   "source": [
    "def calculate_discount(price, discount_percentage):\n",
    "    # Calcula o valor do desconto\n",
    "    discount = price * discount_percentage / 100\n",
    "    # Subtrai o desconto do preço original\n",
    "    discounted_price = price - discount\n",
    "    return discounted_price, discount\n",
    "\n",
    "def main():\n",
    "    while True:\n",
    "        try:\n",
    "            # Recebe input do usuário\n",
    "            price = float(input(\"\\nDigite o preço original (R$): \"))\n",
    "            discount = float(input(\"Digite a porcentagem de desconto (%): \"))\n",
    "            \n",
    "            # Validação do desconto\n",
    "            if discount < 0 or discount > 100:\n",
    "                print(\"Erro: O desconto deve estar entre 0 e 100%\")\n",
    "                continue\n",
    "            \n",
    "            # Calcula o preço final e a economia\n",
    "            final_price, savings = calculate_discount(price, discount)\n",
    "            \n",
    "            # Mostra os resultados\n",
    "            print(\"\\n=== Resultado ===\")\n",
    "            print(f\"Preço Original: R$ {price:.2f}\")\n",
    "            print(f\"Desconto: {discount}%\")\n",
    "            print(f\"Preço Final: R$ {final_price:.2f}\")\n",
    "            print(f\"Você economiza: R$ {savings:.2f}\")\n",
    "            \n",
    "            # Pergunta se quer calcular novamente\n",
    "            again = input(\"\\nDeseja calcular outro desconto? (s/n): \")\n",
    "            if again.lower() != 's':\n",
    "                break\n",
    "                \n",
    "        except ValueError:\n",
    "            print(\"Erro: Por favor, insira valores numéricos válidos\")\n",
    "\n",
    "if __name__ == \"__main__\":\n",
    "    print(\"=== Calculadora de Desconto ===\")\n",
    "    main()"
   ]
  }
 ],
 "metadata": {
  "kernelspec": {
   "display_name": "Python 3 (ipykernel)",
   "language": "python",
   "name": "python3"
  },
  "language_info": {
   "codemirror_mode": {
    "name": "ipython",
    "version": 3
   },
   "file_extension": ".py",
   "mimetype": "text/x-python",
   "name": "python",
   "nbconvert_exporter": "python",
   "pygments_lexer": "ipython3",
   "version": "3.12.7"
  }
 },
 "nbformat": 4,
 "nbformat_minor": 5
}
